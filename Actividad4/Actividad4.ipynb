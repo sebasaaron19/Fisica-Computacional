{
 "cells": [
  {
   "cell_type": "code",
   "execution_count": 2,
   "metadata": {},
   "outputs": [],
   "source": [
    "#Declaracion de bibliotecas a utilizar\n",
    "import pandas as pd\n",
    "import numpy as np\n",
    "import matplotlib.pyplot as plt\n",
    "import calendar as cld\n",
    "import seaborn as sns"
   ]
  },
  {
   "cell_type": "code",
   "execution_count": 3,
   "metadata": {},
   "outputs": [],
   "source": [
    "#Lectura del archivo de texto\n",
    "df0 = pd.read_csv('bahiakino.txt', skiprows=0, sep='\\s+') "
   ]
  },
  {
   "cell_type": "code",
   "execution_count": 4,
   "metadata": {},
   "outputs": [],
   "source": [
    "#Conversion de los datos del archivo en un marco de datos\n",
    "df=pd.DataFrame(df0)"
   ]
  },
  {
   "cell_type": "code",
   "execution_count": 5,
   "metadata": {},
   "outputs": [],
   "source": [
    "#Conversion de la columna \"Fecha\" en una variable\n",
    "df['FECHA'] = pd.to_datetime(df.apply(lambda x: x['FECHA'],1), dayfirst=True)"
   ]
  },
  {
   "cell_type": "code",
   "execution_count": 6,
   "metadata": {},
   "outputs": [],
   "source": [
    "#Conversion de las columnas  \"PRECIP\", \"EVAP\", \"TMAX\", \"TMIN\" en variables numericas\n",
    "cols = ['PRECIP', 'EVAP', 'TMAX', 'TMIN']\n",
    "df[cols] = df[cols].apply(pd.to_numeric, errors='coerce', axis=1)"
   ]
  },
  {
   "cell_type": "code",
   "execution_count": 7,
   "metadata": {},
   "outputs": [
    {
     "data": {
      "text/plain": [
       "FECHA     datetime64[ns]\n",
       "PRECIP           float64\n",
       "EVAP             float64\n",
       "TMAX             float64\n",
       "TMIN             float64\n",
       "dtype: object"
      ]
     },
     "execution_count": 7,
     "metadata": {},
     "output_type": "execute_result"
    }
   ],
   "source": [
    "df.dtypes"
   ]
  },
  {
   "cell_type": "code",
   "execution_count": 8,
   "metadata": {},
   "outputs": [
    {
     "data": {
      "text/html": [
       "<div>\n",
       "<style scoped>\n",
       "    .dataframe tbody tr th:only-of-type {\n",
       "        vertical-align: middle;\n",
       "    }\n",
       "\n",
       "    .dataframe tbody tr th {\n",
       "        vertical-align: top;\n",
       "    }\n",
       "\n",
       "    .dataframe thead th {\n",
       "        text-align: right;\n",
       "    }\n",
       "</style>\n",
       "<table border=\"1\" class=\"dataframe\">\n",
       "  <thead>\n",
       "    <tr style=\"text-align: right;\">\n",
       "      <th></th>\n",
       "      <th>PRECIP</th>\n",
       "      <th>EVAP</th>\n",
       "      <th>TMAX</th>\n",
       "      <th>TMIN</th>\n",
       "    </tr>\n",
       "  </thead>\n",
       "  <tbody>\n",
       "    <tr>\n",
       "      <th>count</th>\n",
       "      <td>6619.000000</td>\n",
       "      <td>4721.000000</td>\n",
       "      <td>6485.00000</td>\n",
       "      <td>6486.000000</td>\n",
       "    </tr>\n",
       "    <tr>\n",
       "      <th>mean</th>\n",
       "      <td>0.358136</td>\n",
       "      <td>6.096420</td>\n",
       "      <td>27.11192</td>\n",
       "      <td>13.964030</td>\n",
       "    </tr>\n",
       "    <tr>\n",
       "      <th>std</th>\n",
       "      <td>2.788885</td>\n",
       "      <td>2.714726</td>\n",
       "      <td>5.78545</td>\n",
       "      <td>7.048581</td>\n",
       "    </tr>\n",
       "    <tr>\n",
       "      <th>min</th>\n",
       "      <td>0.000000</td>\n",
       "      <td>0.100000</td>\n",
       "      <td>10.50000</td>\n",
       "      <td>-4.000000</td>\n",
       "    </tr>\n",
       "    <tr>\n",
       "      <th>25%</th>\n",
       "      <td>0.000000</td>\n",
       "      <td>4.100000</td>\n",
       "      <td>22.00000</td>\n",
       "      <td>8.000000</td>\n",
       "    </tr>\n",
       "    <tr>\n",
       "      <th>50%</th>\n",
       "      <td>0.000000</td>\n",
       "      <td>6.000000</td>\n",
       "      <td>27.00000</td>\n",
       "      <td>12.500000</td>\n",
       "    </tr>\n",
       "    <tr>\n",
       "      <th>75%</th>\n",
       "      <td>0.000000</td>\n",
       "      <td>7.900000</td>\n",
       "      <td>32.00000</td>\n",
       "      <td>20.000000</td>\n",
       "    </tr>\n",
       "    <tr>\n",
       "      <th>max</th>\n",
       "      <td>70.000000</td>\n",
       "      <td>17.700000</td>\n",
       "      <td>48.50000</td>\n",
       "      <td>30.000000</td>\n",
       "    </tr>\n",
       "  </tbody>\n",
       "</table>\n",
       "</div>"
      ],
      "text/plain": [
       "            PRECIP         EVAP        TMAX         TMIN\n",
       "count  6619.000000  4721.000000  6485.00000  6486.000000\n",
       "mean      0.358136     6.096420    27.11192    13.964030\n",
       "std       2.788885     2.714726     5.78545     7.048581\n",
       "min       0.000000     0.100000    10.50000    -4.000000\n",
       "25%       0.000000     4.100000    22.00000     8.000000\n",
       "50%       0.000000     6.000000    27.00000    12.500000\n",
       "75%       0.000000     7.900000    32.00000    20.000000\n",
       "max      70.000000    17.700000    48.50000    30.000000"
      ]
     },
     "execution_count": 8,
     "metadata": {},
     "output_type": "execute_result"
    }
   ],
   "source": [
    "df.describe()"
   ]
  },
  {
   "cell_type": "code",
   "execution_count": 9,
   "metadata": {},
   "outputs": [],
   "source": [
    "#Creacion de variables de mes y año\n",
    "df['MES'] = df['FECHA'].dt.month \n",
    "df['AÑO'] = df['FECHA'].dt.year\n",
    "df['DIA'] = df['FECHA'].dt.day"
   ]
  },
  {
   "cell_type": "code",
   "execution_count": 10,
   "metadata": {},
   "outputs": [
    {
     "data": {
      "text/plain": [
       "(       FECHA  PRECIP  EVAP  TMAX  TMIN  MES   AÑO  DIA\n",
       " 0 1974-07-01     0.0   7.3  35.0  22.0    7  1974    1\n",
       " 1 1974-07-02     0.0  10.5  34.0  22.5    7  1974    2\n",
       " 2 1974-07-03     0.0  13.6  31.5  21.0    7  1974    3\n",
       " 3 1974-07-04     0.0  10.7  41.0  28.0    7  1974    4\n",
       " 4 1974-07-05     0.0  10.9  35.0  28.0    7  1974    5,\n",
       "           FECHA  PRECIP  EVAP  TMAX  TMIN  MES   AÑO  DIA\n",
       " 6630 2011-07-27     0.0   9.4  34.0  24.0    7  2011   27\n",
       " 6631 2011-07-28     0.0   7.0  33.5  24.5    7  2011   28\n",
       " 6632 2011-07-29     0.0   7.6  33.0  25.5    7  2011   29\n",
       " 6633 2011-07-30     0.0   8.1  36.0  25.5    7  2011   30\n",
       " 6634 2011-07-31     0.0   NaN   NaN  27.5    7  2011   31)"
      ]
     },
     "execution_count": 10,
     "metadata": {},
     "output_type": "execute_result"
    }
   ],
   "source": [
    "df.head(),df.tail()"
   ]
  },
  {
   "cell_type": "code",
   "execution_count": 26,
   "metadata": {},
   "outputs": [
    {
     "name": "stdout",
     "output_type": "stream",
     "text": [
      "24 años de datos\n"
     ]
    }
   ],
   "source": [
    "# Número de años distintos\n",
    "NumA = len(df['AÑO'].unique())\n",
    "print(NumA, \"años de datos\")"
   ]
  },
  {
   "cell_type": "code",
   "execution_count": 12,
   "metadata": {},
   "outputs": [],
   "source": [
    "#Loop para obtener datos por mes\n",
    "Meses = [i + 1 for i in range(12)] \n",
    "PrecipMens = [df[df.MES==(i+1)].PRECIP.sum()/NumA for i in range (12)]\n",
    "TMaxMens = [df[df.MES==(i+1)].TMAX.mean() for i in range (12)]\n",
    "TMinMens = [df[df.MES==(i+1)].TMIN.mean() for i in range (12)]"
   ]
  },
  {
   "cell_type": "code",
   "execution_count": 13,
   "metadata": {},
   "outputs": [
    {
     "data": {
      "text/html": [
       "<div>\n",
       "<style scoped>\n",
       "    .dataframe tbody tr th:only-of-type {\n",
       "        vertical-align: middle;\n",
       "    }\n",
       "\n",
       "    .dataframe tbody tr th {\n",
       "        vertical-align: top;\n",
       "    }\n",
       "\n",
       "    .dataframe thead th {\n",
       "        text-align: right;\n",
       "    }\n",
       "</style>\n",
       "<table border=\"1\" class=\"dataframe\">\n",
       "  <thead>\n",
       "    <tr style=\"text-align: right;\">\n",
       "      <th></th>\n",
       "      <th>MES</th>\n",
       "      <th>PrecipMens</th>\n",
       "      <th>TMaxMens</th>\n",
       "      <th>TMinMens</th>\n",
       "    </tr>\n",
       "  </thead>\n",
       "  <tbody>\n",
       "    <tr>\n",
       "      <th>0</th>\n",
       "      <td>1</td>\n",
       "      <td>7.508333</td>\n",
       "      <td>19.702471</td>\n",
       "      <td>6.594286</td>\n",
       "    </tr>\n",
       "    <tr>\n",
       "      <th>1</th>\n",
       "      <td>2</td>\n",
       "      <td>5.166667</td>\n",
       "      <td>21.462598</td>\n",
       "      <td>7.166864</td>\n",
       "    </tr>\n",
       "    <tr>\n",
       "      <th>2</th>\n",
       "      <td>3</td>\n",
       "      <td>1.750000</td>\n",
       "      <td>22.931542</td>\n",
       "      <td>8.585492</td>\n",
       "    </tr>\n",
       "    <tr>\n",
       "      <th>3</th>\n",
       "      <td>4</td>\n",
       "      <td>0.666667</td>\n",
       "      <td>25.518492</td>\n",
       "      <td>10.700719</td>\n",
       "    </tr>\n",
       "    <tr>\n",
       "      <th>4</th>\n",
       "      <td>5</td>\n",
       "      <td>0.291667</td>\n",
       "      <td>28.093137</td>\n",
       "      <td>13.230392</td>\n",
       "    </tr>\n",
       "    <tr>\n",
       "      <th>5</th>\n",
       "      <td>6</td>\n",
       "      <td>1.208333</td>\n",
       "      <td>31.985887</td>\n",
       "      <td>18.229839</td>\n",
       "    </tr>\n",
       "    <tr>\n",
       "      <th>6</th>\n",
       "      <td>7</td>\n",
       "      <td>13.345833</td>\n",
       "      <td>33.007785</td>\n",
       "      <td>23.729706</td>\n",
       "    </tr>\n",
       "    <tr>\n",
       "      <th>7</th>\n",
       "      <td>8</td>\n",
       "      <td>27.808333</td>\n",
       "      <td>33.827075</td>\n",
       "      <td>23.788538</td>\n",
       "    </tr>\n",
       "    <tr>\n",
       "      <th>8</th>\n",
       "      <td>9</td>\n",
       "      <td>16.179167</td>\n",
       "      <td>33.129529</td>\n",
       "      <td>21.980000</td>\n",
       "    </tr>\n",
       "    <tr>\n",
       "      <th>9</th>\n",
       "      <td>10</td>\n",
       "      <td>7.983333</td>\n",
       "      <td>29.516608</td>\n",
       "      <td>15.895288</td>\n",
       "    </tr>\n",
       "    <tr>\n",
       "      <th>10</th>\n",
       "      <td>11</td>\n",
       "      <td>3.575000</td>\n",
       "      <td>24.323301</td>\n",
       "      <td>9.859496</td>\n",
       "    </tr>\n",
       "    <tr>\n",
       "      <th>11</th>\n",
       "      <td>12</td>\n",
       "      <td>13.287500</td>\n",
       "      <td>20.902263</td>\n",
       "      <td>6.888090</td>\n",
       "    </tr>\n",
       "  </tbody>\n",
       "</table>\n",
       "</div>"
      ],
      "text/plain": [
       "    MES  PrecipMens   TMaxMens   TMinMens\n",
       "0     1    7.508333  19.702471   6.594286\n",
       "1     2    5.166667  21.462598   7.166864\n",
       "2     3    1.750000  22.931542   8.585492\n",
       "3     4    0.666667  25.518492  10.700719\n",
       "4     5    0.291667  28.093137  13.230392\n",
       "5     6    1.208333  31.985887  18.229839\n",
       "6     7   13.345833  33.007785  23.729706\n",
       "7     8   27.808333  33.827075  23.788538\n",
       "8     9   16.179167  33.129529  21.980000\n",
       "9    10    7.983333  29.516608  15.895288\n",
       "10   11    3.575000  24.323301   9.859496\n",
       "11   12   13.287500  20.902263   6.888090"
      ]
     },
     "execution_count": 13,
     "metadata": {},
     "output_type": "execute_result"
    }
   ],
   "source": [
    "#DataFrame para los datos mensuales\n",
    "datos_mensual = {'MES': Meses, 'PrecipMens': PrecipMens, 'TMaxMens': TMaxMens, 'TMinMens': TMinMens}\n",
    "df_mensual = pd.DataFrame(data=datos_mensual)\n",
    "df_mensual"
   ]
  },
  {
   "cell_type": "code",
   "execution_count": 35,
   "metadata": {},
   "outputs": [
    {
     "data": {
      "image/png": "[encoded data removed]",
      "text/plain": [
       "<Figure size 720x576 with 1 Axes>"
      ]
     },
     "metadata": {
      "needs_background": "light"
     },
     "output_type": "display_data"
    }
   ],
   "source": [
    "#Grafica de barras para las precipitaciones mensuales promedio acumuladas\n",
    "Nombre=cld.month_name[1:13]\n",
    "width = np.min(np.diff(Meses))/3\n",
    "\n",
    "plt.figure(figsize=[10,8])\n",
    "plt.bar(Meses-width, PrecipMens,width, color='R')\n",
    "plt.xticks(Meses-width, Nombre, color = 'k', rotation = 90)\n",
    "plt.ylabel('Precipitación (mm)')\n",
    "plt.title('Precipitación Mensual Acumulada Promedio (1974-2011)')\n",
    "plt.legend([\"Precipitacion Mensual\"],frameon=False,loc='upper left')\n",
    "plt.show()"
   ]
  },
  {
   "cell_type": "code",
   "execution_count": 15,
   "metadata": {},
   "outputs": [],
   "source": [
    "#Loop para obtener datos por año\n",
    "Años = [i + 1 for i in range(1973,2011)] \n",
    "PrecipAn = [df[df.AÑO==(i+1)].PRECIP.mean() for i in range (1973,2011)]\n",
    "TMaxAn = [df[df.AÑO==(i+1)].TMAX.mean() for i in range (1973,2011)]\n",
    "TMinAn = [df[df.AÑO==(i+1)].TMIN.mean() for i in range (1973,2011)]"
   ]
  },
  {
   "cell_type": "code",
   "execution_count": 16,
   "metadata": {},
   "outputs": [
    {
     "data": {
      "text/html": [
       "<div>\n",
       "<style scoped>\n",
       "    .dataframe tbody tr th:only-of-type {\n",
       "        vertical-align: middle;\n",
       "    }\n",
       "\n",
       "    .dataframe tbody tr th {\n",
       "        vertical-align: top;\n",
       "    }\n",
       "\n",
       "    .dataframe thead th {\n",
       "        text-align: right;\n",
       "    }\n",
       "</style>\n",
       "<table border=\"1\" class=\"dataframe\">\n",
       "  <thead>\n",
       "    <tr style=\"text-align: right;\">\n",
       "      <th></th>\n",
       "      <th>AÑOS</th>\n",
       "      <th>PrecipAn</th>\n",
       "      <th>TMaxAn</th>\n",
       "      <th>TMinAn</th>\n",
       "    </tr>\n",
       "  </thead>\n",
       "  <tbody>\n",
       "    <tr>\n",
       "      <th>0</th>\n",
       "      <td>1974</td>\n",
       "      <td>0.488043</td>\n",
       "      <td>29.763587</td>\n",
       "      <td>17.084239</td>\n",
       "    </tr>\n",
       "    <tr>\n",
       "      <th>1</th>\n",
       "      <td>1975</td>\n",
       "      <td>0.153151</td>\n",
       "      <td>27.878356</td>\n",
       "      <td>11.665753</td>\n",
       "    </tr>\n",
       "    <tr>\n",
       "      <th>2</th>\n",
       "      <td>1976</td>\n",
       "      <td>0.292077</td>\n",
       "      <td>29.464208</td>\n",
       "      <td>11.624590</td>\n",
       "    </tr>\n",
       "    <tr>\n",
       "      <th>3</th>\n",
       "      <td>1977</td>\n",
       "      <td>0.286849</td>\n",
       "      <td>27.165753</td>\n",
       "      <td>14.726301</td>\n",
       "    </tr>\n",
       "    <tr>\n",
       "      <th>4</th>\n",
       "      <td>1978</td>\n",
       "      <td>0.222222</td>\n",
       "      <td>27.763158</td>\n",
       "      <td>13.870044</td>\n",
       "    </tr>\n",
       "    <tr>\n",
       "      <th>5</th>\n",
       "      <td>1979</td>\n",
       "      <td>0.352459</td>\n",
       "      <td>26.723214</td>\n",
       "      <td>13.031250</td>\n",
       "    </tr>\n",
       "    <tr>\n",
       "      <th>6</th>\n",
       "      <td>1980</td>\n",
       "      <td>0.189891</td>\n",
       "      <td>27.898907</td>\n",
       "      <td>15.159836</td>\n",
       "    </tr>\n",
       "    <tr>\n",
       "      <th>7</th>\n",
       "      <td>1981</td>\n",
       "      <td>0.249315</td>\n",
       "      <td>26.642466</td>\n",
       "      <td>14.782192</td>\n",
       "    </tr>\n",
       "    <tr>\n",
       "      <th>8</th>\n",
       "      <td>1982</td>\n",
       "      <td>0.420548</td>\n",
       "      <td>26.102210</td>\n",
       "      <td>14.317680</td>\n",
       "    </tr>\n",
       "    <tr>\n",
       "      <th>9</th>\n",
       "      <td>1983</td>\n",
       "      <td>0.641317</td>\n",
       "      <td>26.495509</td>\n",
       "      <td>13.706587</td>\n",
       "    </tr>\n",
       "    <tr>\n",
       "      <th>10</th>\n",
       "      <td>1984</td>\n",
       "      <td>0.721038</td>\n",
       "      <td>27.337432</td>\n",
       "      <td>13.788251</td>\n",
       "    </tr>\n",
       "    <tr>\n",
       "      <th>11</th>\n",
       "      <td>1985</td>\n",
       "      <td>0.145205</td>\n",
       "      <td>26.106849</td>\n",
       "      <td>13.394521</td>\n",
       "    </tr>\n",
       "    <tr>\n",
       "      <th>12</th>\n",
       "      <td>1986</td>\n",
       "      <td>0.043478</td>\n",
       "      <td>26.550725</td>\n",
       "      <td>14.265700</td>\n",
       "    </tr>\n",
       "    <tr>\n",
       "      <th>13</th>\n",
       "      <td>1987</td>\n",
       "      <td>NaN</td>\n",
       "      <td>NaN</td>\n",
       "      <td>NaN</td>\n",
       "    </tr>\n",
       "    <tr>\n",
       "      <th>14</th>\n",
       "      <td>1988</td>\n",
       "      <td>0.377049</td>\n",
       "      <td>27.180328</td>\n",
       "      <td>15.651639</td>\n",
       "    </tr>\n",
       "    <tr>\n",
       "      <th>15</th>\n",
       "      <td>1989</td>\n",
       "      <td>0.145923</td>\n",
       "      <td>23.270386</td>\n",
       "      <td>9.360515</td>\n",
       "    </tr>\n",
       "    <tr>\n",
       "      <th>16</th>\n",
       "      <td>1990</td>\n",
       "      <td>0.582418</td>\n",
       "      <td>26.952381</td>\n",
       "      <td>14.043956</td>\n",
       "    </tr>\n",
       "    <tr>\n",
       "      <th>17</th>\n",
       "      <td>1991</td>\n",
       "      <td>0.452055</td>\n",
       "      <td>26.000000</td>\n",
       "      <td>13.208219</td>\n",
       "    </tr>\n",
       "    <tr>\n",
       "      <th>18</th>\n",
       "      <td>1992</td>\n",
       "      <td>0.911765</td>\n",
       "      <td>27.532895</td>\n",
       "      <td>14.677632</td>\n",
       "    </tr>\n",
       "    <tr>\n",
       "      <th>19</th>\n",
       "      <td>1993</td>\n",
       "      <td>0.416901</td>\n",
       "      <td>26.591549</td>\n",
       "      <td>14.177465</td>\n",
       "    </tr>\n",
       "    <tr>\n",
       "      <th>20</th>\n",
       "      <td>1994</td>\n",
       "      <td>NaN</td>\n",
       "      <td>20.142857</td>\n",
       "      <td>4.625000</td>\n",
       "    </tr>\n",
       "    <tr>\n",
       "      <th>21</th>\n",
       "      <td>1995</td>\n",
       "      <td>NaN</td>\n",
       "      <td>NaN</td>\n",
       "      <td>NaN</td>\n",
       "    </tr>\n",
       "    <tr>\n",
       "      <th>22</th>\n",
       "      <td>1996</td>\n",
       "      <td>NaN</td>\n",
       "      <td>NaN</td>\n",
       "      <td>NaN</td>\n",
       "    </tr>\n",
       "    <tr>\n",
       "      <th>23</th>\n",
       "      <td>1997</td>\n",
       "      <td>NaN</td>\n",
       "      <td>NaN</td>\n",
       "      <td>NaN</td>\n",
       "    </tr>\n",
       "    <tr>\n",
       "      <th>24</th>\n",
       "      <td>1998</td>\n",
       "      <td>NaN</td>\n",
       "      <td>NaN</td>\n",
       "      <td>NaN</td>\n",
       "    </tr>\n",
       "    <tr>\n",
       "      <th>25</th>\n",
       "      <td>1999</td>\n",
       "      <td>NaN</td>\n",
       "      <td>NaN</td>\n",
       "      <td>NaN</td>\n",
       "    </tr>\n",
       "    <tr>\n",
       "      <th>26</th>\n",
       "      <td>2000</td>\n",
       "      <td>NaN</td>\n",
       "      <td>NaN</td>\n",
       "      <td>NaN</td>\n",
       "    </tr>\n",
       "    <tr>\n",
       "      <th>27</th>\n",
       "      <td>2001</td>\n",
       "      <td>NaN</td>\n",
       "      <td>NaN</td>\n",
       "      <td>NaN</td>\n",
       "    </tr>\n",
       "    <tr>\n",
       "      <th>28</th>\n",
       "      <td>2002</td>\n",
       "      <td>NaN</td>\n",
       "      <td>NaN</td>\n",
       "      <td>NaN</td>\n",
       "    </tr>\n",
       "    <tr>\n",
       "      <th>29</th>\n",
       "      <td>2003</td>\n",
       "      <td>NaN</td>\n",
       "      <td>NaN</td>\n",
       "      <td>NaN</td>\n",
       "    </tr>\n",
       "    <tr>\n",
       "      <th>30</th>\n",
       "      <td>2004</td>\n",
       "      <td>NaN</td>\n",
       "      <td>NaN</td>\n",
       "      <td>NaN</td>\n",
       "    </tr>\n",
       "    <tr>\n",
       "      <th>31</th>\n",
       "      <td>2005</td>\n",
       "      <td>NaN</td>\n",
       "      <td>NaN</td>\n",
       "      <td>NaN</td>\n",
       "    </tr>\n",
       "    <tr>\n",
       "      <th>32</th>\n",
       "      <td>2006</td>\n",
       "      <td>NaN</td>\n",
       "      <td>NaN</td>\n",
       "      <td>NaN</td>\n",
       "    </tr>\n",
       "    <tr>\n",
       "      <th>33</th>\n",
       "      <td>2007</td>\n",
       "      <td>0.507394</td>\n",
       "      <td>29.316342</td>\n",
       "      <td>17.761719</td>\n",
       "    </tr>\n",
       "    <tr>\n",
       "      <th>34</th>\n",
       "      <td>2008</td>\n",
       "      <td>0.133333</td>\n",
       "      <td>27.756039</td>\n",
       "      <td>15.826087</td>\n",
       "    </tr>\n",
       "    <tr>\n",
       "      <th>35</th>\n",
       "      <td>2009</td>\n",
       "      <td>NaN</td>\n",
       "      <td>NaN</td>\n",
       "      <td>NaN</td>\n",
       "    </tr>\n",
       "    <tr>\n",
       "      <th>36</th>\n",
       "      <td>2010</td>\n",
       "      <td>0.000000</td>\n",
       "      <td>27.470930</td>\n",
       "      <td>14.764368</td>\n",
       "    </tr>\n",
       "    <tr>\n",
       "      <th>37</th>\n",
       "      <td>2011</td>\n",
       "      <td>0.054545</td>\n",
       "      <td>25.955882</td>\n",
       "      <td>12.020588</td>\n",
       "    </tr>\n",
       "  </tbody>\n",
       "</table>\n",
       "</div>"
      ],
      "text/plain": [
       "    AÑOS  PrecipAn     TMaxAn     TMinAn\n",
       "0   1974  0.488043  29.763587  17.084239\n",
       "1   1975  0.153151  27.878356  11.665753\n",
       "2   1976  0.292077  29.464208  11.624590\n",
       "3   1977  0.286849  27.165753  14.726301\n",
       "4   1978  0.222222  27.763158  13.870044\n",
       "5   1979  0.352459  26.723214  13.031250\n",
       "6   1980  0.189891  27.898907  15.159836\n",
       "7   1981  0.249315  26.642466  14.782192\n",
       "8   1982  0.420548  26.102210  14.317680\n",
       "9   1983  0.641317  26.495509  13.706587\n",
       "10  1984  0.721038  27.337432  13.788251\n",
       "11  1985  0.145205  26.106849  13.394521\n",
       "12  1986  0.043478  26.550725  14.265700\n",
       "13  1987       NaN        NaN        NaN\n",
       "14  1988  0.377049  27.180328  15.651639\n",
       "15  1989  0.145923  23.270386   9.360515\n",
       "16  1990  0.582418  26.952381  14.043956\n",
       "17  1991  0.452055  26.000000  13.208219\n",
       "18  1992  0.911765  27.532895  14.677632\n",
       "19  1993  0.416901  26.591549  14.177465\n",
       "20  1994       NaN  20.142857   4.625000\n",
       "21  1995       NaN        NaN        NaN\n",
       "22  1996       NaN        NaN        NaN\n",
       "23  1997       NaN        NaN        NaN\n",
       "24  1998       NaN        NaN        NaN\n",
       "25  1999       NaN        NaN        NaN\n",
       "26  2000       NaN        NaN        NaN\n",
       "27  2001       NaN        NaN        NaN\n",
       "28  2002       NaN        NaN        NaN\n",
       "29  2003       NaN        NaN        NaN\n",
       "30  2004       NaN        NaN        NaN\n",
       "31  2005       NaN        NaN        NaN\n",
       "32  2006       NaN        NaN        NaN\n",
       "33  2007  0.507394  29.316342  17.761719\n",
       "34  2008  0.133333  27.756039  15.826087\n",
       "35  2009       NaN        NaN        NaN\n",
       "36  2010  0.000000  27.470930  14.764368\n",
       "37  2011  0.054545  25.955882  12.020588"
      ]
     },
     "execution_count": 16,
     "metadata": {},
     "output_type": "execute_result"
    }
   ],
   "source": [
    "#DataFrame para los datos anuales\n",
    "datos_anual = {'AÑOS': Años, 'PrecipAn': PrecipAn, 'TMaxAn': TMaxAn, 'TMinAn': TMinAn}\n",
    "df_anual = pd.DataFrame(data=datos_anual)\n",
    "df_anual"
   ]
  },
  {
   "cell_type": "code",
   "execution_count": 33,
   "metadata": {},
   "outputs": [
    {
     "data": {
      "image/png": "[encoded data removed]",
      "text/plain": [
       "<Figure size 720x576 with 1 Axes>"
      ]
     },
     "metadata": {
      "needs_background": "light"
     },
     "output_type": "display_data"
    }
   ],
   "source": [
    "#Grafica de barras para la precipitacion anual promedio acumulada\n",
    "width = np.min(np.diff(Años))/3\n",
    "\n",
    "plt.figure(figsize=[10,8])\n",
    "plt.bar(Años-width, PrecipAn,width, color='g')\n",
    "plt.xticks(Años-width, Años, size = 'small', color = 'k', rotation = 90)\n",
    "plt.ylabel('Precipitación (mm)')\n",
    "plt.title('Precipitación anual acumulada promedio (1974-2011)')\n",
    "plt.legend([\"Precipitacion anual\"],frameon=False,loc='best')\n",
    "plt.show()"
   ]
  },
  {
   "cell_type": "code",
   "execution_count": 36,
   "metadata": {},
   "outputs": [
    {
     "data": {
      "image/png": "[encoded data removed]",
      "text/plain": [
       "<Figure size 720x576 with 1 Axes>"
      ]
     },
     "metadata": {
      "needs_background": "light"
     },
     "output_type": "display_data"
    }
   ],
   "source": [
    "#Realizamos una gráfica que demuestre la temperatura máxima y mínima promedio a través del tiempo\n",
    "X = Años\n",
    "N = np.arange(len(X)) #Longitud del arreglo de datos\n",
    "Y1 = TMaxAn\n",
    "Y2 = TMinAn\n",
    "\n",
    "plt.figure(figsize=[10,8])\n",
    "plt.plot(Y1, label=\"Máxima\", color = 'b')\n",
    "plt.plot(Y2, label=\"Mínima\", color = 'g')\n",
    "plt.xticks(N, X, size = 'small',color = 'k',rotation = 90)\n",
    "plt.xlabel(\"Años\")\n",
    "plt.ylabel(\"Temperatura (C)\")\n",
    "plt.legend()\n",
    "plt.title('Variacion de la temperatura promedio anual (1974 - 2011)')\n",
    "plt.show()"
   ]
  },
  {
   "cell_type": "code",
   "execution_count": 38,
   "metadata": {},
   "outputs": [
    {
     "data": {
      "image/png": "[encoded data removed]",
      "text/plain": [
       "<Figure size 720x576 with 1 Axes>"
      ]
     },
     "metadata": {
      "needs_background": "light"
     },
     "output_type": "display_data"
    }
   ],
   "source": [
    "Nombre=cld.month_name[1:13]\n",
    "\n",
    "plt.figure(figsize=[10,8])\n",
    "ax = sns.boxplot(x=\"MES\", y=\"TMIN\", data=df, palette=\"bright\")\n",
    "ax.set_xticklabels(Nombre,rotation=90)\n",
    "ax.set(xlabel='Meses', ylabel='Temperaturas mínimas (C)')\n",
    "sns.despine() #Remueve la \"espina dorsal\" de los ejes\n",
    "plt.show()"
   ]
  },
  {
   "cell_type": "code",
   "execution_count": 39,
   "metadata": {},
   "outputs": [
    {
     "data": {
      "image/png": "[encoded data removed]",
      "text/plain": [
       "<Figure size 720x576 with 1 Axes>"
      ]
     },
     "metadata": {
      "needs_background": "light"
     },
     "output_type": "display_data"
    }
   ],
   "source": [
    "Nombre=cld.month_name[1:13]\n",
    "\n",
    "plt.figure(figsize=[10,8])\n",
    "ax = sns.boxplot(x=\"MES\", y=\"TMAX\", data=df, palette=\"colorblind\")\n",
    "ax.set_xticklabels(Nombre,rotation=90)\n",
    "ax.set(xlabel='Meses', ylabel='Temperaturas máximas (C)')\n",
    "sns.despine() #Remueve la \"espina dorsal\" de los ejes\n",
    "plt.show()"
   ]
  },
  {
   "cell_type": "code",
   "execution_count": 40,
   "metadata": {},
   "outputs": [
    {
     "data": {
      "image/png": "[encoded data removed]",
      "text/plain": [
       "<Figure size 720x576 with 1 Axes>"
      ]
     },
     "metadata": {
      "needs_background": "light"
     },
     "output_type": "display_data"
    }
   ],
   "source": [
    "plt.figure(figsize=[10,8])\n",
    "ax = sns.boxplot(x=\"AÑO\", y=\"TMAX\", data=df, palette=\"deep\")\n",
    "ax.set_xticklabels(ax.get_xticklabels(),rotation=90)\n",
    "ax.tick_params(labelsize=10)\n",
    "ax.set(xlabel='Años', ylabel='Temperaturas máximas (C)')\n",
    "sns.despine() #Remueve la \"espina dorsal\" de los ejes\n",
    "plt.show()"
   ]
  },
  {
   "cell_type": "code",
   "execution_count": 41,
   "metadata": {},
   "outputs": [
    {
     "data": {
      "image/png": "[encoded data removed]",
      "text/plain": [
       "<Figure size 720x576 with 1 Axes>"
      ]
     },
     "metadata": {
      "needs_background": "light"
     },
     "output_type": "display_data"
    }
   ],
   "source": [
    "plt.figure(figsize=[10,8])\n",
    "ax = sns.boxplot(x=\"AÑO\", y=\"TMIN\", data=df)\n",
    "ax.set_xticklabels(ax.get_xticklabels(),rotation=90)\n",
    "ax.tick_params(labelsize=10)\n",
    "ax.set(xlabel='Años', ylabel='Temperaturas mínimas (C)')\n",
    "sns.despine() #Remueve la \"espina dorsal\" de los ejes\n",
    "plt.show()"
   ]
  },
  {
   "cell_type": "code",
   "execution_count": null,
   "metadata": {},
   "outputs": [],
   "source": []
  }
 ],
 "metadata": {
  "kernelspec": {
   "display_name": "Python 3",
   "language": "python",
   "name": "python3"
  },
  "language_info": {
   "codemirror_mode": {
    "name": "ipython",
    "version": 3
   },
   "file_extension": ".py",
   "mimetype": "text/x-python",
   "name": "python",
   "nbconvert_exporter": "python",
   "pygments_lexer": "ipython3",
   "version": "3.7.1"
  }
 },
 "nbformat": 4,
 "nbformat_minor": 2
}
