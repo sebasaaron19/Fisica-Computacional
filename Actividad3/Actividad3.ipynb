{
 "cells": [
  {
   "cell_type": "code",
   "execution_count": 1,
   "metadata": {},
   "outputs": [],
   "source": [
    "#Declaracion de bibliotecas a utilizar\n",
    "import pandas as pd\n",
    "import numpy as np\n",
    "import matplotlib.pyplot as plt"
   ]
  },
  {
   "cell_type": "code",
   "execution_count": 2,
   "metadata": {},
   "outputs": [],
   "source": [
    "#Lectura del archivo de texto\n",
    "df0 = pd.read_csv('bahiakino.txt', skiprows=0, sep='\\s+') \n",
    "df0 = df0.replace('Nulo','NA')"
   ]
  },
  {
   "cell_type": "code",
   "execution_count": 3,
   "metadata": {},
   "outputs": [],
   "source": [
    "#Conversion de los datos del archivo en un marco de datos\n",
    "df=pd.DataFrame(df0)"
   ]
  },
  {
   "cell_type": "code",
   "execution_count": 4,
   "metadata": {},
   "outputs": [
    {
     "data": {
      "text/plain": [
       "FECHA     object\n",
       "PRECIP    object\n",
       "EVAP      object\n",
       "TMAX      object\n",
       "TMIN      object\n",
       "dtype: object"
      ]
     },
     "execution_count": 4,
     "metadata": {},
     "output_type": "execute_result"
    }
   ],
   "source": [
    "#Tipos de datos de la tabla\n",
    "df.dtypes"
   ]
  },
  {
   "cell_type": "code",
   "execution_count": 5,
   "metadata": {},
   "outputs": [],
   "source": [
    "#Conversion de la columna \"Fecha\" en una variable\n",
    "df['FECHA'] = pd.to_datetime(df.apply(lambda x: x['FECHA'],1), dayfirst=True)"
   ]
  },
  {
   "cell_type": "code",
   "execution_count": 6,
   "metadata": {},
   "outputs": [],
   "source": [
    "#Conversion de las columnas  \"PRECIP\", \"EVAP\", \"TMAX\", \"TMIN\" en variables numericas\n",
    "cols = ['PRECIP', 'EVAP', 'TMAX', 'TMIN']\n",
    "df[cols] = df[cols].apply(pd.to_numeric, errors='coerce', axis=1)"
   ]
  },
  {
   "cell_type": "code",
   "execution_count": 7,
   "metadata": {},
   "outputs": [
    {
     "data": {
      "text/plain": [
       "FECHA     datetime64[ns]\n",
       "PRECIP           float64\n",
       "EVAP             float64\n",
       "TMAX             float64\n",
       "TMIN             float64\n",
       "dtype: object"
      ]
     },
     "execution_count": 7,
     "metadata": {},
     "output_type": "execute_result"
    }
   ],
   "source": [
    "df.dtypes"
   ]
  },
  {
   "cell_type": "code",
   "execution_count": 8,
   "metadata": {},
   "outputs": [
    {
     "data": {
      "text/html": [
       "<div>\n",
       "<style scoped>\n",
       "    .dataframe tbody tr th:only-of-type {\n",
       "        vertical-align: middle;\n",
       "    }\n",
       "\n",
       "    .dataframe tbody tr th {\n",
       "        vertical-align: top;\n",
       "    }\n",
       "\n",
       "    .dataframe thead th {\n",
       "        text-align: right;\n",
       "    }\n",
       "</style>\n",
       "<table border=\"1\" class=\"dataframe\">\n",
       "  <thead>\n",
       "    <tr style=\"text-align: right;\">\n",
       "      <th></th>\n",
       "      <th>FECHA</th>\n",
       "      <th>PRECIP</th>\n",
       "      <th>EVAP</th>\n",
       "      <th>TMAX</th>\n",
       "      <th>TMIN</th>\n",
       "    </tr>\n",
       "  </thead>\n",
       "  <tbody>\n",
       "    <tr>\n",
       "      <th>0</th>\n",
       "      <td>1974-07-01</td>\n",
       "      <td>0.0</td>\n",
       "      <td>7.3</td>\n",
       "      <td>35.0</td>\n",
       "      <td>22.0</td>\n",
       "    </tr>\n",
       "    <tr>\n",
       "      <th>1</th>\n",
       "      <td>1974-07-02</td>\n",
       "      <td>0.0</td>\n",
       "      <td>10.5</td>\n",
       "      <td>34.0</td>\n",
       "      <td>22.5</td>\n",
       "    </tr>\n",
       "    <tr>\n",
       "      <th>2</th>\n",
       "      <td>1974-07-03</td>\n",
       "      <td>0.0</td>\n",
       "      <td>13.6</td>\n",
       "      <td>31.5</td>\n",
       "      <td>21.0</td>\n",
       "    </tr>\n",
       "    <tr>\n",
       "      <th>3</th>\n",
       "      <td>1974-07-04</td>\n",
       "      <td>0.0</td>\n",
       "      <td>10.7</td>\n",
       "      <td>41.0</td>\n",
       "      <td>28.0</td>\n",
       "    </tr>\n",
       "    <tr>\n",
       "      <th>4</th>\n",
       "      <td>1974-07-05</td>\n",
       "      <td>0.0</td>\n",
       "      <td>10.9</td>\n",
       "      <td>35.0</td>\n",
       "      <td>28.0</td>\n",
       "    </tr>\n",
       "  </tbody>\n",
       "</table>\n",
       "</div>"
      ],
      "text/plain": [
       "       FECHA  PRECIP  EVAP  TMAX  TMIN\n",
       "0 1974-07-01     0.0   7.3  35.0  22.0\n",
       "1 1974-07-02     0.0  10.5  34.0  22.5\n",
       "2 1974-07-03     0.0  13.6  31.5  21.0\n",
       "3 1974-07-04     0.0  10.7  41.0  28.0\n",
       "4 1974-07-05     0.0  10.9  35.0  28.0"
      ]
     },
     "execution_count": 8,
     "metadata": {},
     "output_type": "execute_result"
    }
   ],
   "source": [
    "#Inicio de tabla de datos\n",
    "df.head()"
   ]
  },
  {
   "cell_type": "code",
   "execution_count": 9,
   "metadata": {},
   "outputs": [
    {
     "data": {
      "text/html": [
       "<div>\n",
       "<style scoped>\n",
       "    .dataframe tbody tr th:only-of-type {\n",
       "        vertical-align: middle;\n",
       "    }\n",
       "\n",
       "    .dataframe tbody tr th {\n",
       "        vertical-align: top;\n",
       "    }\n",
       "\n",
       "    .dataframe thead th {\n",
       "        text-align: right;\n",
       "    }\n",
       "</style>\n",
       "<table border=\"1\" class=\"dataframe\">\n",
       "  <thead>\n",
       "    <tr style=\"text-align: right;\">\n",
       "      <th></th>\n",
       "      <th>FECHA</th>\n",
       "      <th>PRECIP</th>\n",
       "      <th>EVAP</th>\n",
       "      <th>TMAX</th>\n",
       "      <th>TMIN</th>\n",
       "    </tr>\n",
       "  </thead>\n",
       "  <tbody>\n",
       "    <tr>\n",
       "      <th>6630</th>\n",
       "      <td>2011-07-27</td>\n",
       "      <td>0.0</td>\n",
       "      <td>9.4</td>\n",
       "      <td>34.0</td>\n",
       "      <td>24.0</td>\n",
       "    </tr>\n",
       "    <tr>\n",
       "      <th>6631</th>\n",
       "      <td>2011-07-28</td>\n",
       "      <td>0.0</td>\n",
       "      <td>7.0</td>\n",
       "      <td>33.5</td>\n",
       "      <td>24.5</td>\n",
       "    </tr>\n",
       "    <tr>\n",
       "      <th>6632</th>\n",
       "      <td>2011-07-29</td>\n",
       "      <td>0.0</td>\n",
       "      <td>7.6</td>\n",
       "      <td>33.0</td>\n",
       "      <td>25.5</td>\n",
       "    </tr>\n",
       "    <tr>\n",
       "      <th>6633</th>\n",
       "      <td>2011-07-30</td>\n",
       "      <td>0.0</td>\n",
       "      <td>8.1</td>\n",
       "      <td>36.0</td>\n",
       "      <td>25.5</td>\n",
       "    </tr>\n",
       "    <tr>\n",
       "      <th>6634</th>\n",
       "      <td>2011-07-31</td>\n",
       "      <td>0.0</td>\n",
       "      <td>NaN</td>\n",
       "      <td>NaN</td>\n",
       "      <td>27.5</td>\n",
       "    </tr>\n",
       "  </tbody>\n",
       "</table>\n",
       "</div>"
      ],
      "text/plain": [
       "          FECHA  PRECIP  EVAP  TMAX  TMIN\n",
       "6630 2011-07-27     0.0   9.4  34.0  24.0\n",
       "6631 2011-07-28     0.0   7.0  33.5  24.5\n",
       "6632 2011-07-29     0.0   7.6  33.0  25.5\n",
       "6633 2011-07-30     0.0   8.1  36.0  25.5\n",
       "6634 2011-07-31     0.0   NaN   NaN  27.5"
      ]
     },
     "execution_count": 9,
     "metadata": {},
     "output_type": "execute_result"
    }
   ],
   "source": [
    "#Final de tabla de datos \n",
    "df.tail()"
   ]
  },
  {
   "cell_type": "code",
   "execution_count": 10,
   "metadata": {},
   "outputs": [
    {
     "data": {
      "text/plain": [
       "PRECIP     0.358136\n",
       "EVAP       6.096420\n",
       "TMAX      27.111920\n",
       "TMIN      13.964030\n",
       "dtype: float64"
      ]
     },
     "execution_count": 10,
     "metadata": {},
     "output_type": "execute_result"
    }
   ],
   "source": [
    "#Promedio\n",
    "df.mean()"
   ]
  },
  {
   "cell_type": "code",
   "execution_count": 11,
   "metadata": {},
   "outputs": [
    {
     "data": {
      "text/plain": [
       "PRECIP    2.788885\n",
       "EVAP      2.714726\n",
       "TMAX      5.785450\n",
       "TMIN      7.048581\n",
       "dtype: float64"
      ]
     },
     "execution_count": 11,
     "metadata": {},
     "output_type": "execute_result"
    }
   ],
   "source": [
    "#Desviacion estandar\n",
    "df.std()"
   ]
  },
  {
   "cell_type": "code",
   "execution_count": 12,
   "metadata": {},
   "outputs": [
    {
     "data": {
      "text/plain": [
       "PRECIP     0.0\n",
       "EVAP       6.0\n",
       "TMAX      27.0\n",
       "TMIN      12.5\n",
       "dtype: float64"
      ]
     },
     "execution_count": 12,
     "metadata": {},
     "output_type": "execute_result"
    }
   ],
   "source": [
    "#Mediana\n",
    "df.median()"
   ]
  },
  {
   "cell_type": "code",
   "execution_count": 13,
   "metadata": {},
   "outputs": [
    {
     "data": {
      "text/plain": [
       "FECHA     2011-07-31 00:00:00\n",
       "PRECIP                     70\n",
       "EVAP                     17.7\n",
       "TMAX                     48.5\n",
       "TMIN                       30\n",
       "dtype: object"
      ]
     },
     "execution_count": 13,
     "metadata": {},
     "output_type": "execute_result"
    }
   ],
   "source": [
    "#Valor maximo de cada columna\n",
    "df.max()"
   ]
  },
  {
   "cell_type": "code",
   "execution_count": 14,
   "metadata": {},
   "outputs": [
    {
     "data": {
      "text/plain": [
       "FECHA     1974-07-01 00:00:00\n",
       "PRECIP                      0\n",
       "EVAP                      0.1\n",
       "TMAX                     10.5\n",
       "TMIN                       -4\n",
       "dtype: object"
      ]
     },
     "execution_count": 14,
     "metadata": {},
     "output_type": "execute_result"
    }
   ],
   "source": [
    "#Valor minimo de cada columna\n",
    "df.min()"
   ]
  },
  {
   "cell_type": "code",
   "execution_count": 15,
   "metadata": {},
   "outputs": [
    {
     "data": {
      "text/html": [
       "<div>\n",
       "<style scoped>\n",
       "    .dataframe tbody tr th:only-of-type {\n",
       "        vertical-align: middle;\n",
       "    }\n",
       "\n",
       "    .dataframe tbody tr th {\n",
       "        vertical-align: top;\n",
       "    }\n",
       "\n",
       "    .dataframe thead th {\n",
       "        text-align: right;\n",
       "    }\n",
       "</style>\n",
       "<table border=\"1\" class=\"dataframe\">\n",
       "  <thead>\n",
       "    <tr style=\"text-align: right;\">\n",
       "      <th></th>\n",
       "      <th>PRECIP</th>\n",
       "      <th>EVAP</th>\n",
       "      <th>TMAX</th>\n",
       "      <th>TMIN</th>\n",
       "    </tr>\n",
       "  </thead>\n",
       "  <tbody>\n",
       "    <tr>\n",
       "      <th>count</th>\n",
       "      <td>6619.000000</td>\n",
       "      <td>4721.000000</td>\n",
       "      <td>6485.00000</td>\n",
       "      <td>6486.000000</td>\n",
       "    </tr>\n",
       "    <tr>\n",
       "      <th>mean</th>\n",
       "      <td>0.358136</td>\n",
       "      <td>6.096420</td>\n",
       "      <td>27.11192</td>\n",
       "      <td>13.964030</td>\n",
       "    </tr>\n",
       "    <tr>\n",
       "      <th>std</th>\n",
       "      <td>2.788885</td>\n",
       "      <td>2.714726</td>\n",
       "      <td>5.78545</td>\n",
       "      <td>7.048581</td>\n",
       "    </tr>\n",
       "    <tr>\n",
       "      <th>min</th>\n",
       "      <td>0.000000</td>\n",
       "      <td>0.100000</td>\n",
       "      <td>10.50000</td>\n",
       "      <td>-4.000000</td>\n",
       "    </tr>\n",
       "    <tr>\n",
       "      <th>25%</th>\n",
       "      <td>0.000000</td>\n",
       "      <td>4.100000</td>\n",
       "      <td>22.00000</td>\n",
       "      <td>8.000000</td>\n",
       "    </tr>\n",
       "    <tr>\n",
       "      <th>50%</th>\n",
       "      <td>0.000000</td>\n",
       "      <td>6.000000</td>\n",
       "      <td>27.00000</td>\n",
       "      <td>12.500000</td>\n",
       "    </tr>\n",
       "    <tr>\n",
       "      <th>75%</th>\n",
       "      <td>0.000000</td>\n",
       "      <td>7.900000</td>\n",
       "      <td>32.00000</td>\n",
       "      <td>20.000000</td>\n",
       "    </tr>\n",
       "    <tr>\n",
       "      <th>max</th>\n",
       "      <td>70.000000</td>\n",
       "      <td>17.700000</td>\n",
       "      <td>48.50000</td>\n",
       "      <td>30.000000</td>\n",
       "    </tr>\n",
       "  </tbody>\n",
       "</table>\n",
       "</div>"
      ],
      "text/plain": [
       "            PRECIP         EVAP        TMAX         TMIN\n",
       "count  6619.000000  4721.000000  6485.00000  6486.000000\n",
       "mean      0.358136     6.096420    27.11192    13.964030\n",
       "std       2.788885     2.714726     5.78545     7.048581\n",
       "min       0.000000     0.100000    10.50000    -4.000000\n",
       "25%       0.000000     4.100000    22.00000     8.000000\n",
       "50%       0.000000     6.000000    27.00000    12.500000\n",
       "75%       0.000000     7.900000    32.00000    20.000000\n",
       "max      70.000000    17.700000    48.50000    30.000000"
      ]
     },
     "execution_count": 15,
     "metadata": {},
     "output_type": "execute_result"
    }
   ],
   "source": [
    "df.describe()"
   ]
  },
  {
   "cell_type": "code",
   "execution_count": 16,
   "metadata": {},
   "outputs": [],
   "source": [
    "#Creacion de variables de mes y año\n",
    "df['MES'] = df['FECHA'].dt.month \n",
    "df['AÑO'] = df['FECHA'].dt.year"
   ]
  },
  {
   "cell_type": "code",
   "execution_count": 17,
   "metadata": {},
   "outputs": [
    {
     "data": {
      "text/plain": [
       "(       FECHA  PRECIP  EVAP  TMAX  TMIN  MES   AÑO\n",
       " 0 1974-07-01     0.0   7.3  35.0  22.0    7  1974\n",
       " 1 1974-07-02     0.0  10.5  34.0  22.5    7  1974\n",
       " 2 1974-07-03     0.0  13.6  31.5  21.0    7  1974\n",
       " 3 1974-07-04     0.0  10.7  41.0  28.0    7  1974\n",
       " 4 1974-07-05     0.0  10.9  35.0  28.0    7  1974,\n",
       "           FECHA  PRECIP  EVAP  TMAX  TMIN  MES   AÑO\n",
       " 6630 2011-07-27     0.0   9.4  34.0  24.0    7  2011\n",
       " 6631 2011-07-28     0.0   7.0  33.5  24.5    7  2011\n",
       " 6632 2011-07-29     0.0   7.6  33.0  25.5    7  2011\n",
       " 6633 2011-07-30     0.0   8.1  36.0  25.5    7  2011\n",
       " 6634 2011-07-31     0.0   NaN   NaN  27.5    7  2011)"
      ]
     },
     "execution_count": 17,
     "metadata": {},
     "output_type": "execute_result"
    }
   ],
   "source": [
    "df.head(),df.tail()"
   ]
  },
  {
   "cell_type": "code",
   "execution_count": 18,
   "metadata": {},
   "outputs": [
    {
     "name": "stdout",
     "output_type": "stream",
     "text": [
      "24 años de datos\n"
     ]
    }
   ],
   "source": [
    "# Número de años distintos\n",
    "NumA = len(df['AÑO'].unique())\n",
    "print(NumA, \"años de datos\")"
   ]
  },
  {
   "cell_type": "code",
   "execution_count": 19,
   "metadata": {},
   "outputs": [
    {
     "name": "stdout",
     "output_type": "stream",
     "text": [
      "Precipitacion del Mes 1 : 7.51 mm , Precipitacion Acumulada: 7.51 mm\n",
      "Precipitacion del Mes 2 : 5.17 mm , Precipitacion Acumulada: 12.68 mm\n",
      "Precipitacion del Mes 3 : 1.75 mm , Precipitacion Acumulada: 14.42 mm\n",
      "Precipitacion del Mes 4 : 0.67 mm , Precipitacion Acumulada: 15.09 mm\n",
      "Precipitacion del Mes 5 : 0.29 mm , Precipitacion Acumulada: 15.38 mm\n",
      "Precipitacion del Mes 6 : 1.21 mm , Precipitacion Acumulada: 16.59 mm\n",
      "Precipitacion del Mes 7 : 13.35 mm , Precipitacion Acumulada: 29.94 mm\n",
      "Precipitacion del Mes 8 : 27.81 mm , Precipitacion Acumulada: 57.75 mm\n",
      "Precipitacion del Mes 9 : 16.18 mm , Precipitacion Acumulada: 73.92 mm\n",
      "Precipitacion del Mes 10 : 7.98 mm , Precipitacion Acumulada: 81.91 mm\n",
      "Precipitacion del Mes 11 : 3.58 mm , Precipitacion Acumulada: 85.48 mm\n",
      "Precipitacion del Mes 12 : 13.29 mm , Precipitacion Acumulada: 98.77 mm\n"
     ]
    }
   ],
   "source": [
    "#Loop para contar el promedio de precipitaciones por mes\n",
    "total=0.0\n",
    "for i in range(12): #Contador de 1 a 12 para los meses\n",
    "    PrecipMensual = df['PRECIP'][df.MES==[i+1]].sum()/NumA #SUmatoria de la precipitacion por mes \n",
    "                                                           #y divida entre el numero de años \n",
    "    total=total+PrecipMensual                              #Guardamos la cantidad calculada anteriormente\n",
    "    print(\"Precipitacion del Mes\", i+1,\":\", np.round(PrecipMensual, decimals=2), \"mm\", \", Precipitacion Acumulada:\", \n",
    "          np.round(total, decimals=2), \"mm\") #Impresion del resultado del calculo de la precipitacion por mes\n",
    "                                             #y precipitaciones acumuladas redondeadas a 2 decimales"
   ]
  },
  {
   "cell_type": "markdown",
   "metadata": {},
   "source": [
    "**Meses mas lluviosos:** agosto con 27.81 mm, septiembre con 16.18 mm y julio con 13.35 mm\n"
   ]
  },
  {
   "cell_type": "code",
   "execution_count": 20,
   "metadata": {},
   "outputs": [
    {
     "name": "stdout",
     "output_type": "stream",
     "text": [
      "Temperatura minima del Mes 1 : 6.59 ºC\n",
      "Temperatura minima del Mes 2 : 7.17 ºC\n",
      "Temperatura minima del Mes 3 : 8.59 ºC\n",
      "Temperatura minima del Mes 4 : 10.7 ºC\n",
      "Temperatura minima del Mes 5 : 13.23 ºC\n",
      "Temperatura minima del Mes 6 : 18.23 ºC\n",
      "Temperatura minima del Mes 7 : 23.73 ºC\n",
      "Temperatura minima del Mes 8 : 23.79 ºC\n",
      "Temperatura minima del Mes 9 : 21.98 ºC\n",
      "Temperatura minima del Mes 10 : 15.9 ºC\n",
      "Temperatura minima del Mes 11 : 9.86 ºC\n",
      "Temperatura minima del Mes 12 : 6.89 ºC\n",
      " \n",
      "Temperatura maxima del Mes 1 : 19.7 ºC\n",
      "Temperatura maxima del Mes 2 : 21.46 ºC\n",
      "Temperatura maxima del Mes 3 : 22.93 ºC\n",
      "Temperatura maxima del Mes 4 : 25.52 ºC\n",
      "Temperatura maxima del Mes 5 : 28.09 ºC\n",
      "Temperatura maxima del Mes 6 : 31.99 ºC\n",
      "Temperatura maxima del Mes 7 : 33.01 ºC\n",
      "Temperatura maxima del Mes 8 : 33.83 ºC\n",
      "Temperatura maxima del Mes 9 : 33.13 ºC\n",
      "Temperatura maxima del Mes 10 : 29.52 ºC\n",
      "Temperatura maxima del Mes 11 : 24.32 ºC\n",
      "Temperatura maxima del Mes 12 : 20.9 ºC\n"
     ]
    }
   ],
   "source": [
    "#Loop para calcular la temperatura maxima y minima promedio de cada mes \n",
    "#Temperatura minima\n",
    "for i in range(12): #contador que va de 1 a 12 para los meses \n",
    "    TminPromMensual = df[df.MES==i+1]['TMIN'].sum()/df[df.MES ==i+1]['TMIN'].count()#Sumatoria las temperaturas registradas\n",
    "                                                                                    #por mes y divida entre el numero toral de datos\n",
    "    print(\"Temperatura minima del Mes\", i+1,\":\", np.round(TminPromMensual, decimals=2), \"ºC\") #Impresion del resultado redondeado a 2 decimales\n",
    "  \n",
    "print(\" \")\n",
    "#Temperatura maxima\n",
    "for i in range(12):\n",
    "    TmaxPromMensual = df[df.MES==i+1]['TMAX'].sum()/df[df.MES==i+1]['TMAX'].count()\n",
    "    print(\"Temperatura maxima del Mes\", i+1,\":\", np.round(TmaxPromMensual, decimals=2), \"ºC\")"
   ]
  },
  {
   "cell_type": "markdown",
   "metadata": {},
   "source": [
    "**El mes más caliente**: El mes de agosto con 33.83 ºC\n",
    "\n",
    "**El mes más frio:** El mes de Enero con 6.59 ºC"
   ]
  },
  {
   "cell_type": "code",
   "execution_count": 21,
   "metadata": {},
   "outputs": [
    {
     "name": "stdout",
     "output_type": "stream",
     "text": [
      "En el Año 1974 llovieron: 89.8 mm, Este año se tienen 184 datos, 0.5 %\n",
      "En el Año 1975 llovieron: 55.9 mm, Este año se tienen 365 datos, 1.0 %\n",
      "En el Año 1976 llovieron: 106.9 mm, Este año se tienen 366 datos, 1.0 %\n",
      "En el Año 1977 llovieron: 104.7 mm, Este año se tienen 365 datos, 1.0 %\n",
      "En el Año 1978 llovieron: 54.0 mm, Este año se tienen 243 datos, 0.67 %\n",
      "En el Año 1979 llovieron: 43.0 mm, Este año se tienen 122 datos, 0.33 %\n",
      "En el Año 1980 llovieron: 69.5 mm, Este año se tienen 366 datos, 1.0 %\n",
      "En el Año 1981 llovieron: 91.0 mm, Este año se tienen 365 datos, 1.0 %\n",
      "En el Año 1982 llovieron: 153.5 mm, Este año se tienen 365 datos, 1.0 %\n",
      "En el Año 1983 llovieron: 214.2 mm, Este año se tienen 334 datos, 0.92 %\n",
      "En el Año 1984 llovieron: 263.9 mm, Este año se tienen 366 datos, 1.0 %\n",
      "En el Año 1985 llovieron: 53.0 mm, Este año se tienen 365 datos, 1.0 %\n",
      "En el Año 1986 llovieron: 9.0 mm, Este año se tienen 207 datos, 0.57 %\n",
      "En el Año 1987 llovieron: 0.0 mm, Este año se tienen 0 datos, 0.0 %\n",
      "En el Año 1988 llovieron: 92.0 mm, Este año se tienen 244 datos, 0.67 %\n",
      "En el Año 1989 llovieron: 34.0 mm, Este año se tienen 233 datos, 0.64 %\n",
      "En el Año 1990 llovieron: 159.0 mm, Este año se tienen 273 datos, 0.75 %\n",
      "En el Año 1991 llovieron: 165.0 mm, Este año se tienen 365 datos, 1.0 %\n",
      "En el Año 1992 llovieron: 279.0 mm, Este año se tienen 306 datos, 0.84 %\n",
      "En el Año 1993 llovieron: 148.0 mm, Este año se tienen 355 datos, 0.97 %\n",
      "En el Año 1994 llovieron: 0.0 mm, Este año se tienen 0 datos, 0.0 %\n",
      "En el Año 1995 llovieron: 0.0 mm, Este año se tienen 0 datos, 0.0 %\n",
      "En el Año 1996 llovieron: 0.0 mm, Este año se tienen 0 datos, 0.0 %\n",
      "En el Año 1997 llovieron: 0.0 mm, Este año se tienen 0 datos, 0.0 %\n",
      "En el Año 1998 llovieron: 0.0 mm, Este año se tienen 0 datos, 0.0 %\n",
      "En el Año 1999 llovieron: 0.0 mm, Este año se tienen 0 datos, 0.0 %\n",
      "En el Año 2000 llovieron: 0.0 mm, Este año se tienen 0 datos, 0.0 %\n",
      "En el Año 2001 llovieron: 0.0 mm, Este año se tienen 0 datos, 0.0 %\n",
      "En el Año 2002 llovieron: 0.0 mm, Este año se tienen 0 datos, 0.0 %\n",
      "En el Año 2003 llovieron: 0.0 mm, Este año se tienen 0 datos, 0.0 %\n",
      "En el Año 2004 llovieron: 0.0 mm, Este año se tienen 0 datos, 0.0 %\n",
      "En el Año 2005 llovieron: 0.0 mm, Este año se tienen 0 datos, 0.0 %\n",
      "En el Año 2006 llovieron: 0.0 mm, Este año se tienen 0 datos, 0.0 %\n",
      "En el Año 2007 llovieron: 144.1 mm, Este año se tienen 284 datos, 0.78 %\n",
      "En el Año 2008 llovieron: 29.6 mm, Este año se tienen 222 datos, 0.61 %\n",
      "En el Año 2009 llovieron: 0.0 mm, Este año se tienen 0 datos, 0.0 %\n",
      "En el Año 2010 llovieron: 0.0 mm, Este año se tienen 115 datos, 0.32 %\n",
      "En el Año 2011 llovieron: 11.4 mm, Este año se tienen 209 datos, 0.57 %\n"
     ]
    }
   ],
   "source": [
    "#Loop para calcular la precipitacion anual y la cantidad de datos que se tienen por año\n",
    "for i in range(1973,2011): # Contador que va desde el inicio de mis datos hasta el final en años \n",
    "    PrecipAnual = df['PRECIP'][df.AÑO==[i+1]].sum() #Sumatoria de la precipitacion por años\n",
    "    NumDatos= df['PRECIP'][df.AÑO==[i+1]].count() #Calculo de la cantidad de datos que se tienen por año\n",
    "    print(\"En el Año\", i+1,\"llovieron:\", PrecipAnual, \"mm,\", \"Este año se tienen\", NumDatos, \"datos,\", np.round(NumDatos/365.0, decimals=2), \"%\") #Impresion de los resultados calculados \n",
    "    "
   ]
  },
  {
   "cell_type": "markdown",
   "metadata": {},
   "source": [
    "**El año mas lluvioso:** 1992 con 279 mm de lluvia, se tienen el 84% de los datos de este año.\n",
    "\n",
    "**El año mes seco:** 2010 se registraron 0 mm de lluvia pero solo se tienen el 32% de los datos de este año, 1986 con 9 mm de lluvia, aunque solo se tiene el 57% de los datos de este año\n"
   ]
  },
  {
   "cell_type": "code",
   "execution_count": null,
   "metadata": {},
   "outputs": [],
   "source": []
  }
 ],
 "metadata": {
  "kernelspec": {
   "display_name": "Python 3",
   "language": "python",
   "name": "python3"
  },
  "language_info": {
   "codemirror_mode": {
    "name": "ipython",
    "version": 3
   },
   "file_extension": ".py",
   "mimetype": "text/x-python",
   "name": "python",
   "nbconvert_exporter": "python",
   "pygments_lexer": "ipython3",
   "version": "3.7.1"
  }
 },
 "nbformat": 4,
 "nbformat_minor": 2
}
